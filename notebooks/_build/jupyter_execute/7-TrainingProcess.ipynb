{
 "cells": [
  {
   "cell_type": "markdown",
   "metadata": {
    "slideshow": {
     "slide_type": "slide"
    }
   },
   "source": [
    "## Training process\n",
    "\n",
    "![featureextraction_p.svg](kuvat/featureextraction_p.svg)"
   ]
  },
  {
   "cell_type": "markdown",
   "metadata": {
    "slideshow": {
     "slide_type": "subslide"
    }
   },
   "source": [
    "### Mathematical notation\n",
    "Task is to find a function $f$, which predicts variable $y_i$ based on $p$ features $x_{i,j}$, where $i \\in [0,N]$ and $j \\in [0,P]$.\n",
    "\n",
    "$$\n",
    "   \\begin{bmatrix}\n",
    "   y_1 \\\\\n",
    "   y_2 \\\\\n",
    "   \\vdots \\\\\n",
    "   y_n\n",
    "   \\end{bmatrix}\n",
    "   = f \n",
    "   \\left( \\begin{bmatrix}\n",
    "     x_{11} & x_{12} & x_{13} & \\dots  & x_{1p} \\\\\n",
    "     x_{21} & x_{22} & x_{23} & \\dots  & x_{2p} \\\\\n",
    "     \\vdots & \\vdots & \\vdots & \\ddots & \\vdots \\\\\n",
    "     x_{n1} & x_{n2} & x_{n3} & \\dots  & x_{np}\n",
    "   \\end{bmatrix} \\right)\n",
    "$$\n",
    "\n",
    "\n",
    " * The purpose of the supervised machine learning is the teach an algorithm to repeat the prediction of values $y_i$ carried out by a reference method. \n",
    " * This is useful if the reference method is more expensive, slower or it has other problems\n",
    " * Often the reference method is a human observer, and it can be replaced with an algorithm\n",
    " * If the predicted value $y_i$ is categorical, the method is called classification, because it assigns samples in classes\n",
    " * If the predicted value $y_i$ is continuous variable, the method is called as regression. \n",
    " * There are many methods for implementing both classification and regression\n",
    " * Variable $y$ is called as dependent variable and $x$ as independent variable, since the values of $y$ depend on $y$."
   ]
  },
  {
   "cell_type": "markdown",
   "metadata": {
    "slideshow": {
     "slide_type": "subslide"
    }
   },
   "source": [
    "## Measures for regression model fitting\n",
    "\n",
    "Terms used below\n",
    " * $x_i$: The i:th feature vector\n",
    " * $y_i$: The i:th true value of predicted variable\n",
    " * $\\hat{y}_i = f(x_i)$: The predicted $y$-value\n",
    " * $\\overline{y}$: The mean value of $y_i$\n",
    " * $n$: The number of samples in the training data set\n",
    " \n",
    " In the code `yh` = $\\hat{y}$\n",
    " "
   ]
  },
  {
   "cell_type": "markdown",
   "metadata": {
    "slideshow": {
     "slide_type": "subslide"
    }
   },
   "source": [
    "### Root mean square value of error: (RMSE)\n",
    "\n",
    "RMSE is the RMS average of the prediction error (residual). RMSE is an absolute mesure, which is not scaled in any range. The unit of the error is the same as the unit of $y$.\n",
    "\n",
    "$$\\rm{RMSE}=\\sqrt{\\frac{\\sum_{i=0}^{n}(y_i - f(x_{i}))^2}{n}}$$\n",
    "\n",
    "This error metrics emphasise large deviations from the true value. It can be calculated using the `mean_squared_error()`-function from `sklearn.metrics`.\n",
    "\n",
    "`from sklearn.metrics import mean_squared_error\n",
    " RMSE=mean_squared_error(y,yh)`\n",
    " "
   ]
  },
  {
   "cell_type": "markdown",
   "metadata": {
    "slideshow": {
     "slide_type": "subslide"
    }
   },
   "source": [
    "### Mean absolute error (MAE)\n",
    "\n",
    "MAE is the average of the absoluve value of the prediction error (residual). MAE is an absolute mesure, which is not scaled in any range. The unit of the error is the same as the unit of $y$.\n",
    "\n",
    "$$\\rm{MAE}=\\frac{\\sum_{i=0}^{n} |y_i - f(x_{i})| }{n}$$\n",
    "\n",
    "Coefficient of determination is the proportion of the variance of the residual divided by the original variance of the data. \n",
    "\n",
    "`from sklearn.metrics import mean_absolute_error\n",
    " MAE=mean_absolute_error(y,yh)`\n",
    " \n",
    " "
   ]
  },
  {
   "cell_type": "markdown",
   "metadata": {
    "slideshow": {
     "slide_type": "subslide"
    }
   },
   "source": [
    "### Coefficient of determination ($R^2$)\n",
    "Coefficient of determination, also called as R-squared, measures the ratio of variance of the residual (zero mean of residual assumed) and the variance of the original data. $R^2$ is always smaller than one. The interpretation of $R^2$ is that it shows how large fraction of the variance in dependent variable is accounted for by the model. In the perfect case, the prediction is exactly same as $y$, the variance of the residual is zero, and $R^2=1$.\n",
    "\n",
    "$$ R^2 = 1- \\frac{\\sum_{i=0}^{n}(y_i - f(x_{i}))^2}{\\sum_{i=0}^{n}(y_i - \\overline{y}))^2}$$\n",
    "\n",
    "Coefficient of determination is often handy, because it is relative and does not depend on the absolute values of $y$. When the absolute error is also important, then RMSE and MAE may be calculated in addition to $R^2$.\n",
    "\n",
    "`from sklearn.metrics import r2_score\n",
    " R2=r2_score(y,yh)`\n",
    " "
   ]
  },
  {
   "cell_type": "markdown",
   "metadata": {
    "slideshow": {
     "slide_type": "subslide"
    }
   },
   "source": [
    " \n",
    " ## Measures for classification model fitting\n",
    " \n",
    "### Precision of classification (P)\n",
    "\n",
    "The `accuracy_score()`-function returns the fraction of correctly classified samples \n",
    "\n",
    "$$ P = \\frac{n_\\rm{correct}}{n}$$\n",
    "\n",
    "\n",
    " `from sklearn.metrics import accuracy_score\n",
    " s=accuracy_score(y, yh)`\n",
    " "
   ]
  },
  {
   "cell_type": "markdown",
   "metadata": {
    "slideshow": {
     "slide_type": "subslide"
    }
   },
   "source": [
    " \n",
    " ### Cohen's Kappa ($\\kappa$)\n",
    " \n",
    "Cohen's kappa is a score which expresses the level of agreement between two annotators in a classification problem.  It is generally thought to be a more robust measure than precision, as κ takes into account the possibility of the agreement occurring by chance. \n",
    "\n",
    "Cohen's Kappa is calculated using the above mentioned precision, $p_o$, and the hypothetical probability of chance agreement, $p_e$. Read more from [Cohen's Kappa in Wikipedia](https://en.wikipedia.org/wiki/Cohen%27s_kappa).\n",
    " \n",
    " $$ \\kappa = \\frac{p_o - p_e}{1 - p_e} $$\n",
    " \n",
    " `from sklearn.metrics import cohen_kappa_score(x,y)\n",
    " s=cohen_kappa_score(y, yh)`\n",
    " "
   ]
  },
  {
   "cell_type": "markdown",
   "metadata": {
    "slideshow": {
     "slide_type": "subslide"
    }
   },
   "source": [
    "## Overfitting\n",
    "\n",
    "Two essential properties of a good model are that \n",
    "1. It *fits to the training data*, i.e. the model can predict the dependent variable from the independent variables. The measures for the fitness are for example $R^2$ or precision.\n",
    "1. It *can generalize*, i.e. the model can predict dependent variables also for new data, which is not seen yet\n",
    "\n",
    "Usually a model can be fitted to the data better, by increasing it's complexity, i.e. adding more degress of freedom into the model. But because all practical data also contains noise, the danger is that when the complexity of the model increases, it can also model the noise in the data in addition to actual phenomenan. \n",
    "\n",
    "When the model is fitted to the data, it is really important to carefully choose correct complexity for the model. If the model is too complex ( it has too many degrees of freedom) it has possibility to model also the noise included in the data. In this kind of case, the model fits very well in  the training data set, but it's capabilities of predicting new data not yet seen can be week. "
   ]
  },
  {
   "cell_type": "markdown",
   "metadata": {
    "slideshow": {
     "slide_type": "subslide"
    }
   },
   "source": [
    "### Example\n",
    "\n",
    "Lets create a data set by combining a simple second order polynomial with some random data source:\n",
    "\n",
    "$$ y = 2x^2 + \\mathcal{N}(0,6)$$\n",
    "\n",
    "Then a second order spline is fitted to the data with two different regularization parameter (smoothness). Consequently the first model is split to 16 pieces (with 17 knots), and the second order spline is fit to each piece separately, whereas the second model is split only in one piece (with 2 knots). Which one is better?"
   ]
  },
  {
   "cell_type": "code",
   "execution_count": 1,
   "metadata": {
    "ExecuteTime": {
     "end_time": "2021-11-03T10:29:21.023744Z",
     "start_time": "2021-11-03T10:29:17.861649Z"
    },
    "scrolled": false,
    "slideshow": {
     "slide_type": "subslide"
    }
   },
   "outputs": [
    {
     "ename": "ModuleNotFoundError",
     "evalue": "No module named 'matplotlib'",
     "output_type": "error",
     "traceback": [
      "\u001b[0;31m---------------------------------------------------------------------------\u001b[0m",
      "\u001b[0;31mModuleNotFoundError\u001b[0m                       Traceback (most recent call last)",
      "Cell \u001b[0;32mIn[1], line 2\u001b[0m\n\u001b[1;32m      1\u001b[0m \u001b[38;5;28;01mimport\u001b[39;00m\u001b[38;5;250m \u001b[39m\u001b[38;5;21;01mnumpy\u001b[39;00m\u001b[38;5;250m \u001b[39m\u001b[38;5;28;01mas\u001b[39;00m\u001b[38;5;250m \u001b[39m\u001b[38;5;21;01mnp\u001b[39;00m\n\u001b[0;32m----> 2\u001b[0m \u001b[38;5;28;01mimport\u001b[39;00m\u001b[38;5;250m \u001b[39m\u001b[38;5;21;01mmatplotlib\u001b[39;00m\u001b[38;5;21;01m.\u001b[39;00m\u001b[38;5;21;01mpyplot\u001b[39;00m\u001b[38;5;250m \u001b[39m\u001b[38;5;28;01mas\u001b[39;00m\u001b[38;5;250m \u001b[39m\u001b[38;5;21;01mplt\u001b[39;00m\n\u001b[1;32m      3\u001b[0m \u001b[38;5;28;01mimport\u001b[39;00m\u001b[38;5;250m \u001b[39m\u001b[38;5;21;01mseaborn\u001b[39;00m\u001b[38;5;250m \u001b[39m\u001b[38;5;28;01mas\u001b[39;00m\u001b[38;5;250m \u001b[39m\u001b[38;5;21;01msns\u001b[39;00m\n\u001b[1;32m      4\u001b[0m \u001b[38;5;28;01mfrom\u001b[39;00m\u001b[38;5;250m \u001b[39m\u001b[38;5;21;01mscipy\u001b[39;00m\u001b[38;5;21;01m.\u001b[39;00m\u001b[38;5;21;01minterpolate\u001b[39;00m\u001b[38;5;250m \u001b[39m\u001b[38;5;28;01mimport\u001b[39;00m UnivariateSpline\n",
      "\u001b[0;31mModuleNotFoundError\u001b[0m: No module named 'matplotlib'"
     ]
    }
   ],
   "source": [
    "import numpy as np\n",
    "import matplotlib.pyplot as plt\n",
    "import seaborn as sns\n",
    "from scipy.interpolate import UnivariateSpline\n",
    "from scipy.stats import norm\n",
    "sns.set()\n",
    "\n",
    "N=20\n",
    "x=np.linspace(0,6,N)\n",
    "y=2*x**2 + norm.rvs(0,5,N,random_state=0)\n",
    "\n",
    "fig,ax=plt.subplots(nrows=1, ncols=2, figsize=(13,5), sharey=True)\n",
    "\n",
    "spl1=UnivariateSpline(x, y, k=2, s=0.5*N)\n",
    "np1=len(spl1.get_knots())\n",
    "ax[0].scatter(x,y, c='b')\n",
    "ax[0].plot(x,spl1(x), 'r')\n",
    "ax[0].set_xlabel('X')\n",
    "ax[0].set_ylabel('Y')\n",
    "ax[0].set_title('A) Number of knots = %d' % (np1))\n",
    "\n",
    "spl2=UnivariateSpline(x, y, k=2, s=20*N)\n",
    "np2=len(spl2.get_knots())\n",
    "ax[1].scatter(x,y, c='b')\n",
    "ax[1].plot(x,spl2(x), 'r')\n",
    "ax[1].set_xlabel('X')\n",
    "ax[1].set_title('B) Number of knots = %d' % (np2))"
   ]
  },
  {
   "cell_type": "markdown",
   "metadata": {
    "slideshow": {
     "slide_type": "subslide"
    }
   },
   "source": [
    "The first model fits better to the current data, but the second model is still better, because if new data is drawn using the same process, the second model will fit better.\n",
    "\n",
    "#### Try it"
   ]
  },
  {
   "cell_type": "code",
   "execution_count": 9,
   "metadata": {
    "ExecuteTime": {
     "end_time": "2021-11-03T10:29:38.254588Z",
     "start_time": "2021-11-03T10:29:37.829534Z"
    },
    "slideshow": {
     "slide_type": "fragment"
    }
   },
   "outputs": [
    {
     "name": "stdout",
     "output_type": "stream",
     "text": [
      "Training set, model 1 and model 2.......1.00, 0.97\n",
      " Testing set, model 1 and model 2.......0.90, 0.92\n"
     ]
    }
   ],
   "source": [
    "# Use R2 score to measure the fitness\n",
    "from sklearn.metrics import r2_score\n",
    "\n",
    "# Create new data from the same model\n",
    "y2=2*x**2 + norm.rvs(0,5,N,random_state=1)\n",
    "\n",
    "# Score the original (training set)\n",
    "r2_m1_train=r2_score(y,spl1(x))\n",
    "r2_m2_train=r2_score(y,spl2(x))\n",
    "\n",
    "# Score the second (testing set)\n",
    "r2_m1_test=r2_score(y2,spl1(x))\n",
    "r2_m2_test=r2_score(y2,spl2(x))\n",
    "\n",
    "print(\"Training set, model 1 and model 2.......%3.2f, %3.2f\" % (r2_m1_train, r2_m2_train))\n",
    "print(\" Testing set, model 1 and model 2.......%3.2f, %3.2f\" % (r2_m1_test, r2_m2_test))"
   ]
  },
  {
   "cell_type": "markdown",
   "metadata": {
    "slideshow": {
     "slide_type": "fragment"
    }
   },
   "source": [
    "The first model is said to be **overfitted** to the data. It fits very well to the training data, but cannot effectively generalize to the new data."
   ]
  },
  {
   "cell_type": "markdown",
   "metadata": {
    "slideshow": {
     "slide_type": "subslide"
    }
   },
   "source": [
    "## Training, Validation and Testing <a class=\"anchor\" id=\"TrainTestValidate\"></a>\n",
    "\n",
    "Building predictive models requires following stages\n",
    "1. Model building (training)\n",
    "1. Model validation (often within an interation/optimisation loop)\n",
    "1. Model testing (in the end)\n",
    "\n",
    "Important rules related to model building and testing\n",
    "1. The model cannot be tested using training set, because that would lead to overfitting\n",
    "1. Test set may not bet used many times, because then you would overfit to the test data\n",
    "\n",
    "Each stage requires data. The original data can be split in three different sets, one for each stage, but high quality labeled data is usually scarce resource, and in that cases slightly smarter method of using the data is needed."
   ]
  },
  {
   "cell_type": "markdown",
   "metadata": {
    "slideshow": {
     "slide_type": "subslide"
    }
   },
   "source": [
    "### Cross Validation <a class=\"anchor\" id=\"crossvalidation\"></a>\n",
    "\n",
    "![crossvalidation.svg](kuvat/crossvalidation.png \"Crossvalidation\")\n",
    "\n",
    " - Cross validation is an important technique to utilize the data more efficiently for all supervised training purposes\n",
    " - With cross validation, the training set is divided in N-folds.\n",
    " - At first (N-1) folds are used for training and 1 fold for validation\n",
    " - The process is repeated N times, until every sample has participated in training and validation sets\n",
    " - The final score is the average of all N scores"
   ]
  }
 ],
 "metadata": {
  "celltoolbar": "Slideshow",
  "kernelspec": {
   "display_name": "Python 3 (ipykernel)",
   "language": "python",
   "name": "python3"
  },
  "language_info": {
   "codemirror_mode": {
    "name": "ipython",
    "version": 3
   },
   "file_extension": ".py",
   "mimetype": "text/x-python",
   "name": "python",
   "nbconvert_exporter": "python",
   "pygments_lexer": "ipython3",
   "version": "3.13.2"
  },
  "toc": {
   "base_numbering": 1,
   "nav_menu": {},
   "number_sections": true,
   "sideBar": true,
   "skip_h1_title": false,
   "title_cell": "Table of Contents",
   "title_sidebar": "Contents",
   "toc_cell": false,
   "toc_position": {},
   "toc_section_display": true,
   "toc_window_display": false
  }
 },
 "nbformat": 4,
 "nbformat_minor": 4
}