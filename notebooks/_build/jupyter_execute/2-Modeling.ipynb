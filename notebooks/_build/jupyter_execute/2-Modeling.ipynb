{
 "cells": [
  {
   "cell_type": "markdown",
   "id": "83393935",
   "metadata": {},
   "source": [
    "# Modeling\n",
    "\n",
    "The purpose of making a digital model using ML is to analyze some real world process. The analytics may be on of the following four forms:\n",
    "\n",
    "- *Descriptive* Analytics, which tells you what happened in the past\n",
    "- *Diagnostic* Analytics, which helps you understand why something happened in the past\n",
    "- *Predictive* Analytics, which predicts what’s most likely to happen in the future\n",
    "- *Prescriptive* Analytics, which recommends actions you can take to affect those likely outcomes\n",
    "\n"
   ]
  },
  {
   "cell_type": "markdown",
   "id": "d8c6be77",
   "metadata": {},
   "source": [
    "## Example: a simple four-port\n",
    "\n",
    "Consider the following unknown four-port system:\n",
    "\n",
    " <img src=\"kuvat/fourport_unknown.svg\" alt=\"unknown fourport\" width=\"300\"/>\n",
    "\n",
    "The current $I$ is fed into input ports, and then some voltage $V$ is observed in output ports. To understand the process $H$ with parameters $\\Theta$ better, many different currents fed and the corresponding outputs are measured. Let's assume that the results are as follows:\n"
   ]
  },
  {
   "cell_type": "code",
   "execution_count": 1,
   "id": "01a790da",
   "metadata": {
    "ExecuteTime": {
     "end_time": "2022-09-25T06:40:27.147221Z",
     "start_time": "2022-09-25T06:40:26.182369Z"
    }
   },
   "outputs": [
    {
     "ename": "ModuleNotFoundError",
     "evalue": "No module named 'snippets'",
     "output_type": "error",
     "traceback": [
      "\u001b[0;31m---------------------------------------------------------------------------\u001b[0m",
      "\u001b[0;31mModuleNotFoundError\u001b[0m                       Traceback (most recent call last)",
      "Cell \u001b[0;32mIn[1], line 1\u001b[0m\n\u001b[0;32m----> 1\u001b[0m \u001b[38;5;28;01mfrom\u001b[39;00m\u001b[38;5;250m \u001b[39m\u001b[38;5;21;01msnippets\u001b[39;00m\u001b[38;5;250m \u001b[39m\u001b[38;5;28;01mimport\u001b[39;00m fourportdata\n\u001b[1;32m      2\u001b[0m \u001b[38;5;28;01mfrom\u001b[39;00m\u001b[38;5;250m \u001b[39m\u001b[38;5;21;01mmatplotlib\u001b[39;00m\u001b[38;5;250m \u001b[39m\u001b[38;5;28;01mimport\u001b[39;00m pyplot \u001b[38;5;28;01mas\u001b[39;00m plt\n\u001b[1;32m      3\u001b[0m I,V\u001b[38;5;241m=\u001b[39mfourportdata()\n",
      "\u001b[0;31mModuleNotFoundError\u001b[0m: No module named 'snippets'"
     ]
    }
   ],
   "source": [
    "from snippets import fourportdata\n",
    "from matplotlib import pyplot as plt\n",
    "I,V=fourportdata()\n",
    "plt.scatter(I,V)\n",
    "plt.xlabel('Input, I / Amps')\n",
    "plt.ylabel('Output, V/ Volts')\n",
    "plt.title('Unknown fourport')"
   ]
  },
  {
   "cell_type": "markdown",
   "id": "a7381e74",
   "metadata": {},
   "source": [
    "The data implies that there is some relationship between input and output and that relationship may be quite linear. Therefore we may try to build a linear model to predict the output for all input variable values. Since both input and output are continuous, and the model seems linear, linear regression is the first method to be tried.\n"
   ]
  },
  {
   "cell_type": "code",
   "execution_count": 11,
   "id": "c5d45296",
   "metadata": {
    "ExecuteTime": {
     "end_time": "2022-09-25T06:49:08.891973Z",
     "start_time": "2022-09-25T06:49:08.749085Z"
    }
   },
   "outputs": [
    {
     "data": {
      "text/plain": [
       "Text(0.5, 1.0, 'Unknown fourport')"
      ]
     },
     "execution_count": 11,
     "metadata": {},
     "output_type": "execute_result"
    },
    {
     "data": {
      "image/png": "[encoded data removed]",
      "text/plain": [
       "<Figure size 432x288 with 1 Axes>"
      ]
     },
     "metadata": {},
     "output_type": "display_data"
    }
   ],
   "source": [
    "import numpy as np\n",
    "from sklearn.linear_model import LinearRegression\n",
    "x=I.reshape(-1,1)\n",
    "y=V\n",
    "model = LinearRegression(\n",
    "   fit_intercept = True, copy_X = True, n_jobs = 2\n",
    ").fit(x,y)\n",
    "\n",
    "x=np.linspace(0,5).reshape(-1,1)\n",
    "y=model.predict(x)\n",
    "\n",
    "plt.scatter(I,V)\n",
    "plt.plot(x,y, color='red')\n",
    "plt.xlabel('Input, I / Amps')\n",
    "plt.ylabel('Output, V/ Volts')\n",
    "plt.title('Unknown fourport')"
   ]
  },
  {
   "cell_type": "markdown",
   "id": "fc8e4d2e",
   "metadata": {},
   "source": [
    "The data has now revealed the dependency between input and output of the process. Lets take a closer look at the model parameters."
   ]
  },
  {
   "cell_type": "code",
   "execution_count": 18,
   "id": "18988ed5",
   "metadata": {
    "ExecuteTime": {
     "end_time": "2022-09-25T07:01:22.611236Z",
     "start_time": "2022-09-25T07:01:22.601560Z"
    }
   },
   "outputs": [
    {
     "data": {
      "text/plain": [
       "(array([4.75224315]), 1.1135128864710655)"
      ]
     },
     "execution_count": 18,
     "metadata": {},
     "output_type": "execute_result"
    }
   ],
   "source": [
    "model.coef_, model.intercept_"
   ]
  },
  {
   "cell_type": "markdown",
   "id": "315b2b7d",
   "metadata": {},
   "source": [
    "It linear model indeed fits quite well, and we may replace the original process with a linear regression, with equation:\n",
    "\n",
    " $ V \\approx 4.8 \\cdot I + 1.1 $\n",
    " \n",
    "\n",
    "The following electric circuit would therefore be used as equivalent circuit for the previously unknown process\n",
    " \n",
    "  <img src=\"kuvat/fourport_solved.svg\" alt=\"unknown fourport\" width=\"600\"/>\n",
    "\n",
    " "
   ]
  },
  {
   "cell_type": "markdown",
   "id": "8b96e043",
   "metadata": {},
   "source": [
    "## Using the model\n",
    "\n",
    "The model of the unkown process just learned can be used for many purposes:\n",
    "\n",
    "- *Descriptive* **Why** the output of the system exceed the permitted 20 Amps last week?\n",
    "- *Diagnostic* **What** happened, Why the output exceeded 20 Amps. Is the system currently broken or in good shape?\n",
    "- *Predictive* Can the output exceed 20 Amps in the **future**, and what is it's likelihood?\n",
    "- *Prescriptive* What **actions** to take to keep the output in permitted limits.\n",
    "\n"
   ]
  },
  {
   "cell_type": "markdown",
   "id": "c4608a1f",
   "metadata": {},
   "source": [
    "## Machine Learning vs Programming\n",
    "\n",
    "When the model parameters are now known, it is possible to made a digital model by programming, but it is not feasible for complex problems. Consider how to analyze a process where the number of input ports, $N$ is large, say 100.\n",
    "\n",
    " <img src=\"kuvat/nport_unknown.svg\" alt=\"unknown fourport\" width=\"300\"/>\n",
    " \n",
    " The process may also have many parameters. For example the simple four-port example can be also dependent on temperature. How to model that?\n",
    "\n"
   ]
  },
  {
   "cell_type": "markdown",
   "id": "95cc22ee",
   "metadata": {},
   "source": [
    "## Final remarks\n",
    "\n",
    "The model can be used to describe some real world process to help understanding the process, predicting future values, or diagnosing and planning actions. The process binds together the inputs, the outputs and the model parameters. When building the model, think first \n",
    "1. What is the process what you are modeling?\n",
    "1. What are the inputs, outputs and parameters of the process?\n",
    "1. Is the output continuous or discrete (categorical)?\n",
    "1. Is the process stationary or changing over time?\n",
    "\n",
    "Consider for example prediction of stock markets. What variables can be used as inputs and outputs. Is the process stationary, or can the process parameters be used in prediction?"
   ]
  },
  {
   "cell_type": "code",
   "execution_count": null,
   "id": "6f7de0ba",
   "metadata": {},
   "outputs": [],
   "source": []
  }
 ],
 "metadata": {
  "kernelspec": {
   "display_name": "Python 3 (ipykernel)",
   "language": "python",
   "name": "python3"
  },
  "language_info": {
   "codemirror_mode": {
    "name": "ipython",
    "version": 3
   },
   "file_extension": ".py",
   "mimetype": "text/x-python",
   "name": "python",
   "nbconvert_exporter": "python",
   "pygments_lexer": "ipython3",
   "version": "3.13.2"
  },
  "toc": {
   "base_numbering": 1,
   "nav_menu": {},
   "number_sections": true,
   "sideBar": true,
   "skip_h1_title": false,
   "title_cell": "Table of Contents",
   "title_sidebar": "Contents",
   "toc_cell": false,
   "toc_position": {},
   "toc_section_display": true,
   "toc_window_display": false
  }
 },
 "nbformat": 4,
 "nbformat_minor": 5
}